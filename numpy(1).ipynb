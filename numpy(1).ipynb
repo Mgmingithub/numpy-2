{
 "cells": [
  {
   "cell_type": "code",
   "execution_count": 1,
   "id": "27746889-ae4b-4fef-967c-0716a0448294",
   "metadata": {},
   "outputs": [],
   "source": [
    "import numpy as np"
   ]
  },
  {
   "cell_type": "code",
   "execution_count": 2,
   "id": "1e268779-3a7a-4474-8acb-d4a599358ec6",
   "metadata": {},
   "outputs": [
    {
     "name": "stdout",
     "output_type": "stream",
     "text": [
      "[0 0 3 0 2 4 2 2 2 2]\n"
     ]
    }
   ],
   "source": [
    "arr = np.array([0, 0, 3, 0, 2, 4, 2, 2, 2, 2])\n",
    "print(arr)"
   ]
  },
  {
   "cell_type": "code",
   "execution_count": 3,
   "id": "f711e7cb-5967-4a12-949f-117682a12a77",
   "metadata": {},
   "outputs": [
    {
     "name": "stdout",
     "output_type": "stream",
     "text": [
      "[0 2 3 4]\n",
      "[0 0 2 0 1 3 1 1 1 1]\n"
     ]
    }
   ],
   "source": [
    "unique_vals, inverse_indices = np.unique(arr, return_inverse=True)\n",
    "print(unique_vals)\n",
    "print(inverse_indices)"
   ]
  },
  {
   "cell_type": "code",
   "execution_count": 4,
   "id": "ec77b7b0-d342-4bce-8d8f-e8f2572d72b0",
   "metadata": {},
   "outputs": [
    {
     "name": "stdout",
     "output_type": "stream",
     "text": [
      "Position 0: value 0 -> unique index 0\n",
      "Position 1: value 0 -> unique index 0\n",
      "Position 2: value 3 -> unique index 2\n",
      "Position 3: value 0 -> unique index 0\n",
      "Position 4: value 2 -> unique index 1\n",
      "Position 5: value 4 -> unique index 3\n",
      "Position 6: value 2 -> unique index 1\n",
      "Position 7: value 2 -> unique index 1\n",
      "Position 8: value 2 -> unique index 1\n",
      "Position 9: value 2 -> unique index 1\n"
     ]
    }
   ],
   "source": [
    "for i in range(len(arr)):\n",
    "    print(f\"Position {i}: value {arr[i]} -> unique index {inverse_indices[i]}\")"
   ]
  },
  {
   "cell_type": "code",
   "execution_count": 5,
   "id": "c141ff56-f8bd-4e60-9373-c4d451f503e2",
   "metadata": {},
   "outputs": [
    {
     "name": "stdout",
     "output_type": "stream",
     "text": [
      "[False  True False  True False False  True  True  True  True]\n"
     ]
    }
   ],
   "source": [
    "def find_duplicates(arr):\n",
    "    result = []\n",
    "    seen = []\n",
    "    for value in arr:\n",
    "        if value in seen:\n",
    "            result.append(True)\n",
    "        else:\n",
    "            result.append(False)\n",
    "            seen.append(value)\n",
    "    return np.array(result)\n",
    "\n",
    "result = find_duplicates(arr)\n",
    "print(result)"
   ]
  },
  {
   "cell_type": "code",
   "execution_count": 6,
   "id": "6a377ba9-ec8c-4828-a2c1-9bff28077818",
   "metadata": {},
   "outputs": [
    {
     "name": "stdout",
     "output_type": "stream",
     "text": [
      "[False  True False  True False False  True  True  True  True]\n"
     ]
    }
   ],
   "source": [
    "def find_duplicates(arr):\n",
    "    result = []\n",
    "    seen = []\n",
    "    for value in arr:\n",
    "        if value in seen:\n",
    "            result.append(True)\n",
    "        else:\n",
    "            result.append(False)\n",
    "            seen.append(value)\n",
    "    return np.array(result)\n",
    "\n",
    "result = find_duplicates(arr)\n",
    "print(result)"
   ]
  },
  {
   "cell_type": "code",
   "execution_count": 7,
   "id": "36db06c6-ddea-4efc-ac7d-bbbe5556d563",
   "metadata": {},
   "outputs": [
    {
     "name": "stdout",
     "output_type": "stream",
     "text": [
      "Position 0: 0 -> False (first)\n",
      "Position 1: 0 -> True (duplicate)\n",
      "Position 2: 3 -> False (first)\n",
      "Position 3: 0 -> True (duplicate)\n",
      "Position 4: 2 -> False (first)\n",
      "Position 5: 4 -> False (first)\n",
      "Position 6: 2 -> True (duplicate)\n",
      "Position 7: 2 -> True (duplicate)\n",
      "Position 8: 2 -> True (duplicate)\n",
      "Position 9: 2 -> True (duplicate)\n",
      "[False  True False  True False False  True  True  True  True]\n"
     ]
    }
   ],
   "source": [
    "arr = np.array([0, 0, 3, 0, 2, 4, 2, 2, 2, 2])\n",
    "unique_vals, inverse_indices = np.unique(arr, return_inverse=True)\n",
    "seen = np.zeros(len(unique_vals), dtype=bool)\n",
    "result = np.zeros(len(arr), dtype=bool)\n",
    "\n",
    "for i in range(len(arr)):\n",
    "    unique_index = inverse_indices[i]\n",
    "    if seen[unique_index]:\n",
    "        result[i] = True\n",
    "        print(f\"Position {i}: {arr[i]} -> True (duplicate)\")\n",
    "    else:\n",
    "        seen[unique_index] = True\n",
    "        result[i] = False\n",
    "        print(f\"Position {i}: {arr[i]} -> False (first)\")\n",
    "\n",
    "print(result)"
   ]
  },
  {
   "cell_type": "code",
   "execution_count": null,
   "id": "d5ee7f1d-bd06-4935-85a7-4542a4d72af2",
   "metadata": {},
   "outputs": [],
   "source": [
    "t = int(input())\n",
    "for _ in range(t):\n",
    "    ids = list(map(int, input().split()))\n",
    "    ids_array = np.array(ids)\n",
    "    \n",
    "    unique_vals, inverse_indices = np.unique(ids_array, return_inverse=True)\n",
    "    seen = np.zeros(len(unique_vals), dtype=bool)\n",
    "    result = np.zeros(len(ids_array), dtype=bool)\n",
    "    \n",
    "    for i in range(len(ids_array)):\n",
    "        unique_index = inverse_indices[i]\n",
    "        if seen[unique_index]:\n",
    "            result[i] = True\n",
    "        else:\n",
    "            seen[unique_index] = True\n",
    "            result[i] = False\n",
    "    \n",
    "    print(result)"
   ]
  },
  {
   "cell_type": "code",
   "execution_count": null,
   "id": "64c58f73-8ef3-4d94-875c-6ae71d4ef22a",
   "metadata": {},
   "outputs": [],
   "source": [
    "t = int(input())\n",
    "for _ in range(t):\n",
    "    ids = list(map(int, input().split()))\n",
    "    ids_array = np.array(ids)\n",
    "    \n",
    "    unique_vals, inverse_indices = np.unique(ids_array, return_inverse=True)\n",
    "    seen = np.zeros(len(unique_vals), dtype=bool)\n",
    "    result = np.zeros(len(ids_array), dtype=bool)\n",
    "    \n",
    "    for i in range(len(ids_array)):\n",
    "        unique_index = inverse_indices[i]\n",
    "        if seen[unique_index]:\n",
    "            result[i] = True\n",
    "        else:\n",
    "            seen[unique_index] = True\n",
    "            result[i] = False\n",
    "    \n",
    "    print(result)"
   ]
  },
  {
   "cell_type": "code",
   "execution_count": null,
   "id": "24d900fd-dc5e-4f75-bb80-68062ec33e8c",
   "metadata": {},
   "outputs": [],
   "source": []
  }
 ],
 "metadata": {
  "kernelspec": {
   "display_name": "Python 3 (ipykernel)",
   "language": "python",
   "name": "python3"
  },
  "language_info": {
   "codemirror_mode": {
    "name": "ipython",
    "version": 3
   },
   "file_extension": ".py",
   "mimetype": "text/x-python",
   "name": "python",
   "nbconvert_exporter": "python",
   "pygments_lexer": "ipython3",
   "version": "3.13.5"
  }
 },
 "nbformat": 4,
 "nbformat_minor": 5
}
